{
 "cells": [
  {
   "cell_type": "markdown",
   "id": "4bba2954",
   "metadata": {},
   "source": [
    "# Tutorial 6:"
   ]
  },
  {
   "cell_type": "markdown",
   "id": "dd884b35",
   "metadata": {},
   "source": [
    "**CHECKING DATA TYPE**"
   ]
  },
  {
   "cell_type": "code",
   "execution_count": 2,
   "id": "3f8c1a1e",
   "metadata": {},
   "outputs": [
    {
     "name": "stdout",
     "output_type": "stream",
     "text": [
      "[1 2 3 4]\n",
      "int64\n"
     ]
    }
   ],
   "source": [
    "import numpy as np\n",
    "array_1 = np.array([1,2,3,4])\n",
    "print(array_1)\n",
    "print(array_1.dtype)"
   ]
  },
  {
   "cell_type": "code",
   "execution_count": 4,
   "id": "ce69917e",
   "metadata": {},
   "outputs": [
    {
     "name": "stdout",
     "output_type": "stream",
     "text": [
      "[1.22 3.4  3.  ]\n",
      "float64\n"
     ]
    }
   ],
   "source": [
    "array_2 = np.array([1.22,3.4,3.0])\n",
    "print(array_2)\n",
    "print(array_2.dtype)"
   ]
  },
  {
   "cell_type": "code",
   "execution_count": 5,
   "id": "3d96a81c",
   "metadata": {},
   "outputs": [
    {
     "name": "stdout",
     "output_type": "stream",
     "text": [
      "['a' 's' 'd' 'f']\n",
      "<U1\n"
     ]
    }
   ],
   "source": [
    "array_3 = np.array([\"a\",\"s\",\"d\",\"f\"])\n",
    "print(array_3)\n",
    "print(array_3.dtype)"
   ]
  },
  {
   "cell_type": "code",
   "execution_count": 6,
   "id": "3aac8155",
   "metadata": {},
   "outputs": [
    {
     "name": "stdout",
     "output_type": "stream",
     "text": [
      "['a' 's' 'd' 'f' '1' '2' '3']\n",
      "<U21\n"
     ]
    }
   ],
   "source": [
    "array_4 = np.array([\"a\",\"s\",\"d\",\"f\",1,2,3])\n",
    "print(array_4)\n",
    "print(array_4.dtype)"
   ]
  },
  {
   "cell_type": "markdown",
   "id": "f6bf4ba4",
   "metadata": {},
   "source": [
    "**CHANGING DATA TYPE**"
   ]
  },
  {
   "cell_type": "code",
   "execution_count": 6,
   "id": "df147e0e",
   "metadata": {},
   "outputs": [
    {
     "name": "stdout",
     "output_type": "stream",
     "text": [
      "[1 2 3 4]\n",
      "int64\n",
      "\n",
      "[1 2 3 4]\n",
      "int8\n"
     ]
    }
   ],
   "source": [
    "array_5 = np.array([1,2,3,4])\n",
    "print(array_5)\n",
    "print(array_5.dtype)\n",
    "print()\n",
    "array_5 = np.array([1,2,3,4],dtype = np.int8)\n",
    "print(array_5)\n",
    "print(array_5.dtype)"
   ]
  },
  {
   "cell_type": "code",
   "execution_count": 7,
   "id": "f2321c57",
   "metadata": {},
   "outputs": [
    {
     "name": "stdout",
     "output_type": "stream",
     "text": [
      "[1 2 3 4]\n",
      "int64\n",
      "\n",
      "[1. 2. 3. 4.]\n",
      "float32\n"
     ]
    }
   ],
   "source": [
    "array_6 = np.array([1,2,3,4])\n",
    "print(array_6)\n",
    "print(array_6.dtype)\n",
    "print()\n",
    "array_6 = np.array([1,2,3,4],dtype = \"f\")\n",
    "print(array_6)\n",
    "print(array_6.dtype)"
   ]
  },
  {
   "cell_type": "code",
   "execution_count": 11,
   "id": "0d0d4465",
   "metadata": {},
   "outputs": [
    {
     "name": "stdout",
     "output_type": "stream",
     "text": [
      "[1 2 3 4]\n",
      "Data type :  int64\n",
      "[1. 2. 3. 4.]\n",
      "Data type :  float32\n",
      "[1. 2. 3. 4.]\n",
      "Data type :  int64\n"
     ]
    }
   ],
   "source": [
    "array_7 = np.array([1,2,3,4])\n",
    "func_1 = np.float32(array_7)\n",
    "func_2 = np.int_(func_1)\n",
    "print(array_7)\n",
    "print(\"Data type : \",array_7.dtype)\n",
    "print(func)\n",
    "print(\"Data type : \",func_1.dtype)\n",
    "print(func_1)\n",
    "print(\"Data type : \",func_2.dtype)"
   ]
  },
  {
   "cell_type": "code",
   "execution_count": 12,
   "id": "a3c19464",
   "metadata": {},
   "outputs": [
    {
     "name": "stdout",
     "output_type": "stream",
     "text": [
      "[1 2 3 4]\n",
      "int64\n",
      "[1. 2. 3. 4.]\n",
      "float64\n"
     ]
    }
   ],
   "source": [
    "array_8 = np.array([1,2,3,4])\n",
    "array_9 = array_8.astype(float)\n",
    "print(array_8)\n",
    "print(array_8.dtype)\n",
    "print(array_9)\n",
    "print(array_9.dtype)"
   ]
  }
 ],
 "metadata": {
  "kernelspec": {
   "display_name": "Python 3 (ipykernel)",
   "language": "python",
   "name": "python3"
  },
  "language_info": {
   "codemirror_mode": {
    "name": "ipython",
    "version": 3
   },
   "file_extension": ".py",
   "mimetype": "text/x-python",
   "name": "python",
   "nbconvert_exporter": "python",
   "pygments_lexer": "ipython3",
   "version": "3.9.16"
  }
 },
 "nbformat": 4,
 "nbformat_minor": 5
}
