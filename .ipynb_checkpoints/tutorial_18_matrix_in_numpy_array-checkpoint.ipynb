{
 "cells": [
  {
   "cell_type": "markdown",
   "id": "a4571832",
   "metadata": {},
   "source": [
    "# Tutorial 18:"
   ]
  },
  {
   "cell_type": "markdown",
   "id": "f954293c",
   "metadata": {},
   "source": [
    "**MATRIX IN NUMPY ARRAYS:**"
   ]
  },
  {
   "cell_type": "code",
   "execution_count": 2,
   "id": "5dc324c9",
   "metadata": {},
   "outputs": [],
   "source": [
    "import numpy as np"
   ]
  },
  {
   "cell_type": "code",
   "execution_count": 25,
   "id": "e875f181",
   "metadata": {},
   "outputs": [
    {
     "name": "stdout",
     "output_type": "stream",
     "text": [
      "[[1 2 3]\n",
      " [1 2 3]]\n",
      "<class 'numpy.matrix'>\n",
      "\n",
      "addition = \n",
      " [[2 4 6]\n",
      " [2 4 6]]\n",
      "subtraction = \n",
      " [[0 0 0]\n",
      " [0 0 0]]\n"
     ]
    },
    {
     "ename": "ValueError",
     "evalue": "shapes (2,3) and (2,3) not aligned: 3 (dim 1) != 2 (dim 0)",
     "output_type": "error",
     "traceback": [
      "\u001b[0;31m---------------------------------------------------------------------------\u001b[0m",
      "\u001b[0;31mValueError\u001b[0m                                Traceback (most recent call last)",
      "Cell \u001b[0;32mIn[25], line 8\u001b[0m\n\u001b[1;32m      6\u001b[0m \u001b[38;5;28mprint\u001b[39m(\u001b[38;5;124m\"\u001b[39m\u001b[38;5;124maddition = \u001b[39m\u001b[38;5;130;01m\\n\u001b[39;00m\u001b[38;5;124m\"\u001b[39m,var\u001b[38;5;241m+\u001b[39mvar_0)\n\u001b[1;32m      7\u001b[0m \u001b[38;5;28mprint\u001b[39m(\u001b[38;5;124m\"\u001b[39m\u001b[38;5;124msubtraction = \u001b[39m\u001b[38;5;130;01m\\n\u001b[39;00m\u001b[38;5;124m\"\u001b[39m,var\u001b[38;5;241m-\u001b[39mvar_0)\n\u001b[0;32m----> 8\u001b[0m \u001b[38;5;28mprint\u001b[39m(\u001b[38;5;124m\"\u001b[39m\u001b[38;5;124mmultiplication(dot) = \u001b[39m\u001b[38;5;130;01m\\n\u001b[39;00m\u001b[38;5;124m\"\u001b[39m,\u001b[43mvar\u001b[49m\u001b[38;5;241;43m.\u001b[39;49m\u001b[43mdot\u001b[49m\u001b[43m(\u001b[49m\u001b[43mvar\u001b[49m\u001b[43m)\u001b[49m)\n",
      "\u001b[0;31mValueError\u001b[0m: shapes (2,3) and (2,3) not aligned: 3 (dim 1) != 2 (dim 0)"
     ]
    }
   ],
   "source": [
    "var = np.matrix([[1,2,3],[1,2,3]])\n",
    "var_0 = np.matrix([[1,2,3],[1,2,3]])\n",
    "print(var)\n",
    "print(type(var))\n",
    "print()\n",
    "print(\"addition = \\n\",var+var_0)\n",
    "print(\"subtraction = \\n\",var-var_0)\n",
    "print(\"multiplication(dot) = \\n\",var.dot(var_0))"
   ]
  },
  {
   "cell_type": "code",
   "execution_count": 23,
   "id": "5b3beeb8",
   "metadata": {},
   "outputs": [
    {
     "name": "stdout",
     "output_type": "stream",
     "text": [
      "[[1 2 3]\n",
      " [1 2 3]]\n",
      "<class 'numpy.ndarray'>\n",
      "\n",
      "addition = \n",
      " [[2 4 6]\n",
      " [2 4 6]]\n",
      "subtraction = \n",
      " [[0 0 0]\n",
      " [0 0 0]]\n",
      "multiplication = \n",
      " [[1 4 9]\n",
      " [1 4 9]]\n"
     ]
    }
   ],
   "source": [
    "var_1 = np.array([[1,2,3],[1,2,3]])\n",
    "var_01 = np.array([[1,2,3],[1,2,3]])\n",
    "print(var_1)\n",
    "print(type(var_1))\n",
    "print()\n",
    "print(\"addition = \\n\",var_1+var_01)\n",
    "print(\"subtraction = \\n\",var_1-var_01)\n",
    "print(\"multiplication = \\n\",var_1*var_01)"
   ]
  },
  {
   "cell_type": "markdown",
   "id": "c9380aac",
   "metadata": {},
   "source": [
    "**TRANSPOSE FUNCTION:**"
   ]
  },
  {
   "cell_type": "code",
   "execution_count": 27,
   "id": "8991324c",
   "metadata": {},
   "outputs": [
    {
     "name": "stdout",
     "output_type": "stream",
     "text": [
      "[[1 2 3]\n",
      " [4 5 6]]\n",
      "\n",
      "[[1 4]\n",
      " [2 5]\n",
      " [3 6]]\n"
     ]
    }
   ],
   "source": [
    "m_1 = np.matrix([[1,2,3],[4,5,6]])\n",
    "print(m_1)\n",
    "print()\n",
    "print(np.transpose(m_1))"
   ]
  },
  {
   "cell_type": "markdown",
   "id": "38680454",
   "metadata": {},
   "source": [
    "**SWAPAXES FUNCTION:**"
   ]
  },
  {
   "cell_type": "code",
   "execution_count": 28,
   "id": "6101e2d3",
   "metadata": {},
   "outputs": [
    {
     "name": "stdout",
     "output_type": "stream",
     "text": [
      "[[1 2 3]\n",
      " [4 5 6]]\n",
      "\n",
      "[[1 4]\n",
      " [2 5]\n",
      " [3 6]]\n"
     ]
    }
   ],
   "source": [
    "m_1 = np.matrix([[1,2,3],[4,5,6]])\n",
    "print(m_1)\n",
    "print()\n",
    "print(np.swapaxes(m_1,0,1))"
   ]
  },
  {
   "cell_type": "code",
   "execution_count": 30,
   "id": "ad49756b",
   "metadata": {},
   "outputs": [
    {
     "name": "stdout",
     "output_type": "stream",
     "text": [
      "[[1 3]\n",
      " [2 4]]\n"
     ]
    }
   ],
   "source": [
    "m_2 = np.matrix([[1,2],[3,4]])\n",
    "print(np.swapaxes(m_2,0,1))"
   ]
  },
  {
   "cell_type": "code",
   "execution_count": 32,
   "id": "334ff14f",
   "metadata": {},
   "outputs": [
    {
     "name": "stdout",
     "output_type": "stream",
     "text": [
      "[[-2.   1. ]\n",
      " [ 1.5 -0.5]]\n"
     ]
    }
   ],
   "source": [
    "m_2 = np.matrix([[1,2],[3,4]])\n",
    "print(np.linalg.inv(m_2))"
   ]
  },
  {
   "cell_type": "markdown",
   "id": "319ee474",
   "metadata": {},
   "source": [
    "**POWER FUNCTION:**"
   ]
  },
  {
   "cell_type": "code",
   "execution_count": 38,
   "id": "0d634a6b",
   "metadata": {},
   "outputs": [
    {
     "name": "stdout",
     "output_type": "stream",
     "text": [
      "[[1 2]\n",
      " [3 4]]\n",
      "\n",
      "[[ 7 10]\n",
      " [15 22]]\n",
      "[[1 0]\n",
      " [0 1]]\n",
      "[[ 5.5  -2.5 ]\n",
      " [-3.75  1.75]]\n"
     ]
    }
   ],
   "source": [
    "m_3 = np.matrix([[1,2],[3,4]])\n",
    "print(m_3)\n",
    "print()\n",
    "print(np.linalg.matrix_power(m_3,2))\n",
    "print(np.linalg.matrix_power(m_3,0))     \n",
    "print(np.linalg.matrix_power(m_3,-2))     "
   ]
  },
  {
   "cell_type": "markdown",
   "id": "2a163486",
   "metadata": {},
   "source": [
    "**DETERMINANT FUNCTION():**"
   ]
  },
  {
   "cell_type": "code",
   "execution_count": 41,
   "id": "d96b0d59",
   "metadata": {
    "scrolled": true
   },
   "outputs": [
    {
     "name": "stdout",
     "output_type": "stream",
     "text": [
      "[[1 2 4]\n",
      " [3 4 6]\n",
      " [6 0 6]]\n",
      "\n",
      "-36.0\n"
     ]
    }
   ],
   "source": [
    "m_3 = np.matrix([[1,2,4],[3,4,6],[6,0,6]])\n",
    "print(m_3)\n",
    "print()\n",
    "print(np.linalg.det(m_3))"
   ]
  }
 ],
 "metadata": {
  "kernelspec": {
   "display_name": "Python 3 (ipykernel)",
   "language": "python",
   "name": "python3"
  },
  "language_info": {
   "codemirror_mode": {
    "name": "ipython",
    "version": 3
   },
   "file_extension": ".py",
   "mimetype": "text/x-python",
   "name": "python",
   "nbconvert_exporter": "python",
   "pygments_lexer": "ipython3",
   "version": "3.9.16"
  }
 },
 "nbformat": 4,
 "nbformat_minor": 5
}
