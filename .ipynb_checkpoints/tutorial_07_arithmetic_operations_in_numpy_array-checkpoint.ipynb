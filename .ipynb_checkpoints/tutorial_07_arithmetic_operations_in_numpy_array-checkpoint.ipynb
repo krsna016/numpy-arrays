{
 "cells": [
  {
   "cell_type": "markdown",
   "id": "b196f8b6",
   "metadata": {},
   "source": [
    "# Tutorial 7:"
   ]
  },
  {
   "cell_type": "markdown",
   "id": "f61315bd",
   "metadata": {},
   "source": [
    "**NUMPY ARITHMETIC OPERATIONS (WITHOUT USING FUNCTIONS):**"
   ]
  },
  {
   "cell_type": "code",
   "execution_count": 1,
   "id": "2e4cda74",
   "metadata": {},
   "outputs": [
    {
     "name": "stdout",
     "output_type": "stream",
     "text": [
      "[4 5 6 7]\n"
     ]
    }
   ],
   "source": [
    "import numpy as np\n",
    "\n",
    "array_1 = np.array([1,2,3,4])\n",
    "array_add = array_1 + 3\n",
    "print(array_add)"
   ]
  },
  {
   "cell_type": "code",
   "execution_count": 2,
   "id": "dbde2a0c",
   "metadata": {},
   "outputs": [
    {
     "name": "stdout",
     "output_type": "stream",
     "text": [
      "[ 6  8 10 12]\n"
     ]
    }
   ],
   "source": [
    "array_1 = np.array([1,2,3,4])\n",
    "array_2 = np.array([5,6,7,8])\n",
    "array_add = array_1 + array_2\n",
    "print(array_add)"
   ]
  },
  {
   "cell_type": "code",
   "execution_count": 5,
   "id": "80a391cb",
   "metadata": {},
   "outputs": [
    {
     "name": "stdout",
     "output_type": "stream",
     "text": [
      "[-4 -4 -4 -4]\n"
     ]
    }
   ],
   "source": [
    "array_1 = np.array([1,2,3,4])\n",
    "array_2 = np.array([5,6,7,8])\n",
    "array_sub = array_1 - array_2\n",
    "print(array_sub)"
   ]
  },
  {
   "cell_type": "code",
   "execution_count": 8,
   "id": "efcb852b",
   "metadata": {},
   "outputs": [
    {
     "name": "stdout",
     "output_type": "stream",
     "text": [
      "[ 5 12 21 32]\n"
     ]
    }
   ],
   "source": [
    "array_1 = np.array([1,2,3,4])\n",
    "array_2 = np.array([5,6,7,8])\n",
    "array_mul = array_1 * array_2\n",
    "print(array_mul)"
   ]
  },
  {
   "cell_type": "code",
   "execution_count": 9,
   "id": "58a73eb7",
   "metadata": {},
   "outputs": [
    {
     "name": "stdout",
     "output_type": "stream",
     "text": [
      "[0.2        0.33333333 0.42857143 0.5       ]\n"
     ]
    }
   ],
   "source": [
    "array_1 = np.array([1,2,3,4])\n",
    "array_2 = np.array([5,6,7,8])\n",
    "array_div = array_1 / array_2\n",
    "print(array_div)"
   ]
  },
  {
   "cell_type": "code",
   "execution_count": 11,
   "id": "b68f0e33",
   "metadata": {},
   "outputs": [
    {
     "name": "stdout",
     "output_type": "stream",
     "text": [
      "[0 0 1 0]\n"
     ]
    }
   ],
   "source": [
    "array_1 = np.array([1,2,3,4])\n",
    "array_2 = np.array([5,6,7,8])\n",
    "array_mod = array_2 % array_1\n",
    "print(array_mod)"
   ]
  },
  {
   "cell_type": "code",
   "execution_count": 12,
   "id": "8160b20e",
   "metadata": {},
   "outputs": [
    {
     "name": "stdout",
     "output_type": "stream",
     "text": [
      "[25 36 49 64]\n"
     ]
    }
   ],
   "source": [
    "array_1 = np.array([2,2,2,2])\n",
    "array_2 = np.array([5,6,7,8])\n",
    "array_pow = array_2 ** array_1\n",
    "print(array_pow)"
   ]
  },
  {
   "cell_type": "code",
   "execution_count": 13,
   "id": "a2b2fd76",
   "metadata": {},
   "outputs": [
    {
     "name": "stdout",
     "output_type": "stream",
     "text": [
      "[0.5 0.5 0.5 0.5]\n"
     ]
    }
   ],
   "source": [
    "array_1 = np.array([2,2,2,2])\n",
    "array_reci = 1/array_1\n",
    "print(array_reci)"
   ]
  },
  {
   "cell_type": "markdown",
   "id": "c662d2e2",
   "metadata": {},
   "source": [
    "**NUMPY ARITHMETIC OPERATION (USING FUNCTIONS):**"
   ]
  },
  {
   "cell_type": "code",
   "execution_count": 14,
   "id": "e9932f24",
   "metadata": {},
   "outputs": [
    {
     "name": "stdout",
     "output_type": "stream",
     "text": [
      "[2 4 6 8]\n"
     ]
    }
   ],
   "source": [
    "array_1 = np.array([1,2,3,4])\n",
    "array_2 = np.array([1,2,3,4])\n",
    "oper = np.add(array_1,array_2)\n",
    "print(oper)"
   ]
  },
  {
   "cell_type": "code",
   "execution_count": 15,
   "id": "9109ae9b",
   "metadata": {},
   "outputs": [
    {
     "name": "stdout",
     "output_type": "stream",
     "text": [
      "[0 0 0 0]\n"
     ]
    }
   ],
   "source": [
    "array_1 = np.array([1,2,3,4])\n",
    "array_2 = np.array([1,2,3,4])\n",
    "oper = np.subtract(array_1,array_2)\n",
    "print(oper)"
   ]
  },
  {
   "cell_type": "code",
   "execution_count": 16,
   "id": "b1458d08",
   "metadata": {},
   "outputs": [
    {
     "name": "stdout",
     "output_type": "stream",
     "text": [
      "[ 1  4  9 16]\n"
     ]
    }
   ],
   "source": [
    "array_1 = np.array([1,2,3,4])\n",
    "array_2 = np.array([1,2,3,4])\n",
    "oper = np.multiply(array_1,array_2)\n",
    "print(oper)"
   ]
  },
  {
   "cell_type": "code",
   "execution_count": 17,
   "id": "72ec7923",
   "metadata": {},
   "outputs": [
    {
     "name": "stdout",
     "output_type": "stream",
     "text": [
      "[1. 1. 1. 1.]\n"
     ]
    }
   ],
   "source": [
    "array_1 = np.array([1,2,3,4])\n",
    "array_2 = np.array([1,2,3,4])\n",
    "oper = np.divide(array_1,array_2)\n",
    "print(oper)"
   ]
  },
  {
   "cell_type": "code",
   "execution_count": 18,
   "id": "ac3197b9",
   "metadata": {},
   "outputs": [
    {
     "name": "stdout",
     "output_type": "stream",
     "text": [
      "[0 0 0 0]\n"
     ]
    }
   ],
   "source": [
    "array_1 = np.array([1,2,3,4])\n",
    "array_2 = np.array([1,2,3,4])\n",
    "oper = np.mod(array_1,array_2)\n",
    "print(oper)"
   ]
  },
  {
   "cell_type": "code",
   "execution_count": 23,
   "id": "fa5e2e7b",
   "metadata": {},
   "outputs": [
    {
     "name": "stdout",
     "output_type": "stream",
     "text": [
      "[  1   4  27 256]\n"
     ]
    }
   ],
   "source": [
    "array_1 = np.array([1,2,3,4])\n",
    "array_2 = np.array([1,2,3,4])\n",
    "oper = np.power(array_1,array_2)\n",
    "print(oper)"
   ]
  },
  {
   "cell_type": "code",
   "execution_count": 31,
   "id": "f0f5f3d5",
   "metadata": {},
   "outputs": [
    {
     "name": "stdout",
     "output_type": "stream",
     "text": [
      "[1 0 0 0]\n"
     ]
    }
   ],
   "source": [
    "array_1 = np.array([1,3,4,5])\n",
    "# Will give the result in round off figure\n",
    "oper = np.reciprocal(array_1)\n",
    "# oper = 1/(array_1)\n",
    "print(oper)"
   ]
  },
  {
   "cell_type": "markdown",
   "id": "853f2bf5",
   "metadata": {},
   "source": [
    "**OPERATIONS IN MULTI-DIMENTIONAL ARRAY:**"
   ]
  },
  {
   "cell_type": "code",
   "execution_count": 32,
   "id": "3be417cc",
   "metadata": {},
   "outputs": [
    {
     "name": "stdout",
     "output_type": "stream",
     "text": [
      "[[ 5  7  9 11]\n",
      " [12 14 16  8]]\n"
     ]
    }
   ],
   "source": [
    "array_1 = np.array([[1,2,3,4],[5,6,7,8]])\n",
    "array_2 = np.array([[4,5,6,7],[7,8,9,0]])\n",
    "oper = np.add(array_1,array_2)\n",
    "print(oper)"
   ]
  },
  {
   "cell_type": "code",
   "execution_count": 35,
   "id": "679b9e0b",
   "metadata": {},
   "outputs": [
    {
     "name": "stdout",
     "output_type": "stream",
     "text": [
      "[[[-3 -3 -3 -3]\n",
      "  [-2 -2 -2  8]\n",
      "  [ 0 -2  0 -1]]]\n"
     ]
    }
   ],
   "source": [
    "array_1 = np.array([[[1,2,3,4],[5,6,7,8],[1,2,4,5]]])\n",
    "array_2 = np.array([[[4,5,6,7],[7,8,9,0],[1,4,4,6]]])\n",
    "oper = np.subtract(array_1,array_2)\n",
    "print(oper)"
   ]
  },
  {
   "cell_type": "code",
   "execution_count": 36,
   "id": "4e33eb36",
   "metadata": {},
   "outputs": [
    {
     "name": "stdout",
     "output_type": "stream",
     "text": [
      "[[1 0 0 0]\n",
      " [0 0 0 0]]\n"
     ]
    }
   ],
   "source": [
    "array_1 = np.array([[1,2,3,4],[5,6,7,8]])\n",
    "array_2 = np.array([[4,5,6,7],[7,8,9,0]])\n",
    "oper = np.reciprocal(array_1,array_2)\n",
    "print(oper)"
   ]
  }
 ],
 "metadata": {
  "kernelspec": {
   "display_name": "Python 3 (ipykernel)",
   "language": "python",
   "name": "python3"
  },
  "language_info": {
   "codemirror_mode": {
    "name": "ipython",
    "version": 3
   },
   "file_extension": ".py",
   "mimetype": "text/x-python",
   "name": "python",
   "nbconvert_exporter": "python",
   "pygments_lexer": "ipython3",
   "version": "3.9.16"
  }
 },
 "nbformat": 4,
 "nbformat_minor": 5
}
