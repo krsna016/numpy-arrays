{
 "cells": [
  {
   "cell_type": "markdown",
   "id": "1e3acab5",
   "metadata": {},
   "source": [
    "# Tutorial 14:"
   ]
  },
  {
   "cell_type": "code",
   "execution_count": 3,
   "id": "d0d12085",
   "metadata": {},
   "outputs": [],
   "source": [
    "import numpy as np"
   ]
  },
  {
   "cell_type": "markdown",
   "id": "2418807f",
   "metadata": {},
   "source": [
    "**COPY V/S VIEW:**"
   ]
  },
  {
   "cell_type": "code",
   "execution_count": 11,
   "id": "d5c4eb8d",
   "metadata": {},
   "outputs": [
    {
     "name": "stdout",
     "output_type": "stream",
     "text": [
      "[1 2 3 4]\n",
      "[16  2  3  4]\n"
     ]
    }
   ],
   "source": [
    "array_1 = np.array([1,2,3,4])\n",
    "copy_1 = array_1.copy()\n",
    "copy_1[0] = 16\n",
    "print(array_1)\n",
    "print(copy_1)"
   ]
  },
  {
   "cell_type": "code",
   "execution_count": 12,
   "id": "a111bec4",
   "metadata": {},
   "outputs": [
    {
     "name": "stdout",
     "output_type": "stream",
     "text": [
      "[16  2  3  4]\n",
      "[16  2  3  4]\n"
     ]
    }
   ],
   "source": [
    "array_2 = np.array([1,2,3,4])\n",
    "view_1 = array_2.view()\n",
    "view_1[0] = 16\n",
    "print(array_2)\n",
    "print(view_1)"
   ]
  },
  {
   "cell_type": "code",
   "execution_count": null,
   "id": "3674f5fd",
   "metadata": {},
   "outputs": [],
   "source": []
  }
 ],
 "metadata": {
  "kernelspec": {
   "display_name": "Python 3 (ipykernel)",
   "language": "python",
   "name": "python3"
  },
  "language_info": {
   "codemirror_mode": {
    "name": "ipython",
    "version": 3
   },
   "file_extension": ".py",
   "mimetype": "text/x-python",
   "name": "python",
   "nbconvert_exporter": "python",
   "pygments_lexer": "ipython3",
   "version": "3.9.16"
  }
 },
 "nbformat": 4,
 "nbformat_minor": 5
}
