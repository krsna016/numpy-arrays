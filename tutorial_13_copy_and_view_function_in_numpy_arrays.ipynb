{
 "cells": [
  {
   "cell_type": "markdown",
   "id": "2c89c0c4",
   "metadata": {},
   "source": [
    "# Tutorial 13:"
   ]
  },
  {
   "cell_type": "markdown",
   "id": "f82104d5",
   "metadata": {},
   "source": [
    "**COPY AND VIEW FUNCTION:**"
   ]
  },
  {
   "cell_type": "code",
   "execution_count": null,
   "id": "9cbc6309",
   "metadata": {},
   "outputs": [],
   "source": []
  }
 ],
 "metadata": {
  "kernelspec": {
   "display_name": "Python 3 (ipykernel)",
   "language": "python",
   "name": "python3"
  },
  "language_info": {
   "codemirror_mode": {
    "name": "ipython",
    "version": 3
   },
   "file_extension": ".py",
   "mimetype": "text/x-python",
   "name": "python",
   "nbconvert_exporter": "python",
   "pygments_lexer": "ipython3",
   "version": "3.9.16"
  }
 },
 "nbformat": 4,
 "nbformat_minor": 5
}
