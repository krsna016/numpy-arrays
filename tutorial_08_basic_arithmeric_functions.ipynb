{
 "cells": [
  {
   "cell_type": "markdown",
   "id": "cbfcd760",
   "metadata": {},
   "source": [
    "# Tutorial 8:"
   ]
  },
  {
   "cell_type": "markdown",
   "id": "433f988b",
   "metadata": {},
   "source": [
    "**BASIC ARITHMETIC FUNCTIONS:**"
   ]
  },
  {
   "cell_type": "code",
   "execution_count": 13,
   "id": "bd4e9caa",
   "metadata": {},
   "outputs": [
    {
     "name": "stdout",
     "output_type": "stream",
     "text": [
      "Min value :  1\n",
      "\n",
      "Max value :  9\n",
      "\n",
      "Arg min value (Position of Min Value) :  0\n",
      "\n",
      "Arg max value (Position of Max Value) :  8\n",
      "\n",
      "Square root value :  [1.         1.41421356 1.73205081 2.         2.23606798 2.44948974\n",
      " 2.64575131 2.82842712 3.        ]\n",
      "\n",
      "Sin value :  [ 0.84147098  0.90929743  0.14112001 -0.7568025  -0.95892427 -0.2794155\n",
      "  0.6569866   0.98935825  0.41211849]\n",
      "\n",
      "Cos value :  [ 0.54030231 -0.41614684 -0.9899925  -0.65364362  0.28366219  0.96017029\n",
      "  0.75390225 -0.14550003 -0.91113026]\n",
      "\n",
      "Sum till last number :  [ 1  3  6 10 15 21 28 36 45]\n"
     ]
    }
   ],
   "source": [
    "import numpy as np\n",
    "array = np.array([1,2,3,4,5,6,7,8,9])\n",
    "print(\"Min value : \",np.min(array))\n",
    "print()\n",
    "array = np.array([1,2,3,4,5,6,7,8,9])\n",
    "print(\"Max value : \",np.max(array))\n",
    "print()\n",
    "array = np.array([1,2,3,4,5,6,7,8,9])\n",
    "print(\"Arg min value (Position of Min Value) : \",np.argmin(array))\n",
    "print()\n",
    "array = np.array([1,2,3,4,5,6,7,8,9])\n",
    "print(\"Arg max value (Position of Max Value) : \",np.argmax(array))\n",
    "print()\n",
    "array = np.array([1,2,3,4,5,6,7,8,9])\n",
    "print(\"Square root value : \",np.sqrt(array))\n",
    "print()\n",
    "array = np.array([1,2,3,4,5,6,7,8,9])\n",
    "print(\"Sin value : \",np.sin(array))\n",
    "print()\n",
    "array = np.array([1,2,3,4,5,6,7,8,9])\n",
    "print(\"Cos value : \",np.cos(array))\n",
    "print()\n",
    "array = np.array([1,2,3,4,5,6,7,8,9])\n",
    "print(\"Sum till last number : \",np.cumsum(array))"
   ]
  },
  {
   "cell_type": "code",
   "execution_count": 16,
   "id": "ecfc260c",
   "metadata": {},
   "outputs": [
    {
     "name": "stdout",
     "output_type": "stream",
     "text": [
      "1\n",
      "[1 2 3 4]\n",
      "8\n",
      "[4 8]\n"
     ]
    }
   ],
   "source": [
    "array = np.array([[1,2,3,4],[5,6,7,8]])\n",
    "print(np.min(array))\n",
    "print(np.min(array,axis = 0))\n",
    "print(np.max(array))\n",
    "print(np.max(array,axis = 1))"
   ]
  },
  {
   "cell_type": "code",
   "execution_count": null,
   "id": "57781291",
   "metadata": {},
   "outputs": [],
   "source": []
  }
 ],
 "metadata": {
  "kernelspec": {
   "display_name": "Python 3 (ipykernel)",
   "language": "python",
   "name": "python3"
  },
  "language_info": {
   "codemirror_mode": {
    "name": "ipython",
    "version": 3
   },
   "file_extension": ".py",
   "mimetype": "text/x-python",
   "name": "python",
   "nbconvert_exporter": "python",
   "pygments_lexer": "ipython3",
   "version": "3.9.16"
  }
 },
 "nbformat": 4,
 "nbformat_minor": 5
}
