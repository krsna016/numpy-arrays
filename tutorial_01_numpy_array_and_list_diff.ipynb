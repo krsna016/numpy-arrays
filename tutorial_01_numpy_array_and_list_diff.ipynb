{
 "cells": [
  {
   "cell_type": "markdown",
   "id": "e26ea325",
   "metadata": {},
   "source": [
    "# Tutorial 1:"
   ]
  },
  {
   "cell_type": "markdown",
   "id": "72397021",
   "metadata": {},
   "source": [
    "**IMPORTING NUMPY**"
   ]
  },
  {
   "cell_type": "code",
   "execution_count": 1,
   "id": "c9271a47",
   "metadata": {},
   "outputs": [],
   "source": [
    "import numpy as np"
   ]
  },
  {
   "cell_type": "markdown",
   "id": "a516db4d",
   "metadata": {},
   "source": [
    "**NUMPY ARRAY**"
   ]
  },
  {
   "cell_type": "code",
   "execution_count": 2,
   "id": "086e9781",
   "metadata": {},
   "outputs": [
    {
     "name": "stdout",
     "output_type": "stream",
     "text": [
      "[1 2 3 4]\n"
     ]
    }
   ],
   "source": [
    "array_1 = np.array([1,2,3,4])\n",
    "print(array_1)"
   ]
  },
  {
   "cell_type": "markdown",
   "id": "78d90f17",
   "metadata": {},
   "source": [
    "**PYTHON LIST**"
   ]
  },
  {
   "cell_type": "code",
   "execution_count": 3,
   "id": "efa9c58e",
   "metadata": {},
   "outputs": [
    {
     "name": "stdout",
     "output_type": "stream",
     "text": [
      "[1, 2, 3, 4]\n"
     ]
    }
   ],
   "source": [
    "list_1 = [1,2,3,4]\n",
    "print(list_1)"
   ]
  },
  {
   "cell_type": "markdown",
   "id": "c4319a10",
   "metadata": {},
   "source": [
    "**TYPES OF NUMPY ARRAY AND PYTHON LIST**"
   ]
  },
  {
   "cell_type": "code",
   "execution_count": 4,
   "id": "cd101d8c",
   "metadata": {},
   "outputs": [
    {
     "name": "stdout",
     "output_type": "stream",
     "text": [
      "<class 'numpy.ndarray'>\n",
      "<class 'list'>\n"
     ]
    }
   ],
   "source": [
    "print(type(array_1))\n",
    "print(type(list_1))"
   ]
  }
 ],
 "metadata": {
  "kernelspec": {
   "display_name": "Python 3",
   "language": "python",
   "name": "python3"
  },
  "language_info": {
   "codemirror_mode": {
    "name": "ipython",
    "version": 3
   },
   "file_extension": ".py",
   "mimetype": "text/x-python",
   "name": "python",
   "nbconvert_exporter": "python",
   "pygments_lexer": "ipython3",
   "version": "3.9.16"
  },
  "vscode": {
   "interpreter": {
    "hash": "a665b5d41d17b532ea9890333293a1b812fa0b73c9c25c950b3cedf1bebd0438"
   }
  }
 },
 "nbformat": 4,
 "nbformat_minor": 5
}
