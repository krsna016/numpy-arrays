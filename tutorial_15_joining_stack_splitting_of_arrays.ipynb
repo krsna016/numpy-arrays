{
 "cells": [
  {
   "cell_type": "markdown",
   "id": "12ab0986",
   "metadata": {},
   "source": [
    "# Tutorial 15:"
   ]
  },
  {
   "cell_type": "markdown",
   "id": "8a589b3a",
   "metadata": {},
   "source": [
    "**JOINING ARRAYS (USING, .CONCATENATE() AND .STACK()):**"
   ]
  },
  {
   "cell_type": "code",
   "execution_count": 13,
   "id": "a6015cf7",
   "metadata": {},
   "outputs": [
    {
     "name": "stdout",
     "output_type": "stream",
     "text": [
      "[1 2 3 4 4 5 6 7]\n",
      "[[1 4]\n",
      " [2 5]\n",
      " [3 6]\n",
      " [4 7]]\n"
     ]
    }
   ],
   "source": [
    "import numpy as np\n",
    "ar_1 = np.array([1,2,3,4])\n",
    "ar_2 = np.array([4,5,6,7])\n",
    "# var = np.concatenate((ar_1,ar_2),axis = 1) # For this we can use '.stack()' method\n",
    "var = np.stack((ar_1,ar_2),axis = 1) # For this we can use '.stack()' method\n",
    "ar_1 = np.concatenate((ar_1,ar_2))\n",
    "print(ar_1)\n",
    "print(var)"
   ]
  },
  {
   "cell_type": "code",
   "execution_count": 12,
   "id": "7ec05c15",
   "metadata": {},
   "outputs": [
    {
     "name": "stdout",
     "output_type": "stream",
     "text": [
      "[[1 2 3]\n",
      " [4 5 6]\n",
      " [3 3 4]\n",
      " [9 6 6]]\n",
      "[[1 2 3 3 3 4]\n",
      " [4 5 6 9 6 6]]\n"
     ]
    }
   ],
   "source": [
    "ar_1 = np.array([[1,2,3],[4,5,6]])\n",
    "ar_2 = np.array([[3,3,4],[9,6,6]])\n",
    "var = np.concatenate((ar_1,ar_2)) # axis = 0\n",
    "var_1 = np.concatenate((ar_1,ar_2),axis = 1)\n",
    "print(var)\n",
    "print(var_1)"
   ]
  },
  {
   "cell_type": "code",
   "execution_count": 10,
   "id": "1c9d54fe",
   "metadata": {},
   "outputs": [
    {
     "name": "stdout",
     "output_type": "stream",
     "text": [
      "[[[1 2 3]\n",
      "  [4 5 6]]\n",
      "\n",
      " [[1 1 1]\n",
      "  [2 2 2]]\n",
      "\n",
      " [[3 3 4]\n",
      "  [9 6 6]]\n",
      "\n",
      " [[3 3 3]\n",
      "  [7 8 9]]]\n",
      "[[[1 2 3]\n",
      "  [4 5 6]\n",
      "  [3 3 4]\n",
      "  [9 6 6]]\n",
      "\n",
      " [[1 1 1]\n",
      "  [2 2 2]\n",
      "  [3 3 3]\n",
      "  [7 8 9]]]\n"
     ]
    }
   ],
   "source": [
    "arr_1 = np.array([[[1,2,3],[4,5,6]],[[1,1,1],[2,2,2]]])\n",
    "arr_2 = np.array([[[3,3,4],[9,6,6]],[[3,3,3],[7,8,9]]])\n",
    "var_3 = np.concatenate((arr_1,arr_2)) # axis = 0\n",
    "var_4 = np.concatenate((arr_1,arr_2),axis = 1)\n",
    "print(var_3)\n",
    "print(var_4)"
   ]
  },
  {
   "cell_type": "code",
   "execution_count": 16,
   "id": "fb2228ea",
   "metadata": {},
   "outputs": [
    {
     "name": "stdout",
     "output_type": "stream",
     "text": [
      "[[1 4]\n",
      " [2 5]\n",
      " [3 6]]\n",
      "\n",
      "[1 2 3 4 5 6]\n",
      "\n",
      "[[1 2 3]\n",
      " [4 5 6]]\n",
      "\n",
      "[[[1 4]\n",
      "  [2 5]\n",
      "  [3 6]]]\n"
     ]
    }
   ],
   "source": [
    "a_1 = np.array([1,2,3])\n",
    "a_2 = np.array([4,5,6])\n",
    "v_1  = np.stack((a_1,a_2),axis = 1)\n",
    "v_2  = np.hstack((a_1,a_2)) # Works along row\n",
    "v_3  = np.vstack((a_1,a_2)) # Works along column\n",
    "v_4  = np.dstack((a_1,a_2)) # Works alonh height\n",
    "print(v_1)\n",
    "print()\n",
    "print(v_2)\n",
    "print()\n",
    "print(v_3)\n",
    "print()\n",
    "print(v_4)"
   ]
  },
  {
   "cell_type": "markdown",
   "id": "0b8bed14",
   "metadata": {},
   "source": [
    "**SPLITTING ARRAYS(USING .SPLIT()):**"
   ]
  },
  {
   "cell_type": "code",
   "execution_count": 26,
   "id": "f32c36cf",
   "metadata": {},
   "outputs": [
    {
     "name": "stdout",
     "output_type": "stream",
     "text": [
      "[1 2 3 4 5 6]\n",
      "[array([1, 2, 3]), array([4, 5, 6])]\n",
      "[array([1, 2, 3]), array([4, 5, 6])]\n",
      "[1 2 3]\n"
     ]
    }
   ],
   "source": [
    "v_1 = np.array([1,2,3,4,5,6])\n",
    "s_1 = np.split(v_1,2)\n",
    "s_2 = np.array_split(v_1,2)\n",
    "print(v_1)\n",
    "print(s_1)\n",
    "print(s_2)\n",
    "print(s_2[0])"
   ]
  },
  {
   "cell_type": "code",
   "execution_count": 37,
   "id": "141df438",
   "metadata": {},
   "outputs": [
    {
     "name": "stdout",
     "output_type": "stream",
     "text": [
      "[[1 2 3 4 5 6]\n",
      " [4 5 6 7 8 9]]\n",
      "[array([[1, 2, 3, 4, 5, 6]]), array([[4, 5, 6, 7, 8, 9]])]\n",
      "[array([[1, 2, 3, 4, 5, 6]]), array([[4, 5, 6, 7, 8, 9]])]\n",
      "[[1 2 3 4 5 6]]\n",
      "[array([[1, 2, 3],\n",
      "       [4, 5, 6]]), array([[4, 5, 6],\n",
      "       [7, 8, 9]])]\n"
     ]
    }
   ],
   "source": [
    "v_1 = np.array([[1,2,3,4,5,6],[4,5,6,7,8,9]])\n",
    "s_1 = np.split(v_1,2)\n",
    "s_2 = np.array_split(v_1,2)\n",
    "s_3 = np.array_split(v_1,2,axis =1)\n",
    "print(v_1)\n",
    "print(s_1)\n",
    "print(s_2)\n",
    "print(s_2[0])\n",
    "print(s_3)"
   ]
  }
 ],
 "metadata": {
  "kernelspec": {
   "display_name": "Python 3 (ipykernel)",
   "language": "python",
   "name": "python3"
  },
  "language_info": {
   "codemirror_mode": {
    "name": "ipython",
    "version": 3
   },
   "file_extension": ".py",
   "mimetype": "text/x-python",
   "name": "python",
   "nbconvert_exporter": "python",
   "pygments_lexer": "ipython3",
   "version": "3.9.16"
  }
 },
 "nbformat": 4,
 "nbformat_minor": 5
}
