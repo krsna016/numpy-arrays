{
 "cells": [
  {
   "cell_type": "markdown",
   "id": "64453d6c",
   "metadata": {},
   "source": [
    "# Tutorial 4:"
   ]
  },
  {
   "cell_type": "markdown",
   "id": "cd618116",
   "metadata": {},
   "source": [
    "**ZEROS ARRAY**"
   ]
  },
  {
   "cell_type": "code",
   "execution_count": 1,
   "id": "bee328b2",
   "metadata": {},
   "outputs": [
    {
     "name": "stdout",
     "output_type": "stream",
     "text": [
      "[0. 0. 0. 0.]\n",
      "\n",
      "[[0. 0. 0. 0.]\n",
      " [0. 0. 0. 0.]\n",
      " [0. 0. 0. 0.]]\n"
     ]
    }
   ],
   "source": [
    "import numpy as np\n",
    "zero_array = np.zeros(4)\n",
    "print(zero_array)\n",
    "print()\n",
    "zero_array_1 = np.zeros((3,4))\n",
    "print(zero_array_1)"
   ]
  },
  {
   "cell_type": "markdown",
   "id": "99e14b15",
   "metadata": {},
   "source": [
    "**ONES ARRAY**"
   ]
  },
  {
   "cell_type": "code",
   "execution_count": 3,
   "id": "b7dd79e1",
   "metadata": {},
   "outputs": [
    {
     "name": "stdout",
     "output_type": "stream",
     "text": [
      "[1. 1. 1. 1.]\n",
      "\n",
      "[[1. 1. 1.]\n",
      " [1. 1. 1.]\n",
      " [1. 1. 1.]\n",
      " [1. 1. 1.]]\n"
     ]
    }
   ],
   "source": [
    "ones_array = np.ones(4)\n",
    "print(ones_array)\n",
    "print()\n",
    "ones_array_1 = np.ones((4,3))\n",
    "print(ones_array_1)"
   ]
  },
  {
   "cell_type": "markdown",
   "id": "2aa035fc",
   "metadata": {},
   "source": [
    "**EMPTY ARRAY**"
   ]
  },
  {
   "cell_type": "code",
   "execution_count": 6,
   "id": "e2527271",
   "metadata": {},
   "outputs": [
    {
     "name": "stdout",
     "output_type": "stream",
     "text": [
      "[1. 1. 1. 1.]\n"
     ]
    }
   ],
   "source": [
    "empty_array = np.empty(4)\n",
    "print(empty_array)"
   ]
  },
  {
   "cell_type": "markdown",
   "id": "58288941",
   "metadata": {},
   "source": [
    "**ARRAY IN A RANGE**"
   ]
  },
  {
   "cell_type": "code",
   "execution_count": 7,
   "id": "ae7fc789",
   "metadata": {},
   "outputs": [
    {
     "name": "stdout",
     "output_type": "stream",
     "text": [
      "[0 1 2 3 4 5 6 7 8 9]\n"
     ]
    }
   ],
   "source": [
    "array_range = np.arange(10)\n",
    "print(array_range)"
   ]
  },
  {
   "cell_type": "markdown",
   "id": "cc621d8f",
   "metadata": {},
   "source": [
    "**ARRAY WITH DIAGONAL ELEMENTS**"
   ]
  },
  {
   "cell_type": "code",
   "execution_count": null,
   "id": "25e75f39",
   "metadata": {},
   "outputs": [],
   "source": [
    "diag_array = "
   ]
  }
 ],
 "metadata": {
  "kernelspec": {
   "display_name": "Python 3 (ipykernel)",
   "language": "python",
   "name": "python3"
  },
  "language_info": {
   "codemirror_mode": {
    "name": "ipython",
    "version": 3
   },
   "file_extension": ".py",
   "mimetype": "text/x-python",
   "name": "python",
   "nbconvert_exporter": "python",
   "pygments_lexer": "ipython3",
   "version": "3.9.16"
  }
 },
 "nbformat": 4,
 "nbformat_minor": 5
}
