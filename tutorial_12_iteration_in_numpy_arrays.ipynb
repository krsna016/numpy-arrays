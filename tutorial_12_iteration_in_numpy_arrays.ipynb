{
 "cells": [
  {
   "cell_type": "markdown",
   "id": "35be47e2",
   "metadata": {},
   "source": [
    "# Tutorial 12:"
   ]
  },
  {
   "cell_type": "markdown",
   "id": "bc84b824",
   "metadata": {},
   "source": [
    "**ITERATION IN NUMPY ARRAYS (USING FOR LOOP):**"
   ]
  },
  {
   "cell_type": "code",
   "execution_count": 1,
   "id": "92798ec7",
   "metadata": {},
   "outputs": [
    {
     "name": "stdout",
     "output_type": "stream",
     "text": [
      "9\n",
      "8\n",
      "7\n",
      "6\n",
      "5\n",
      "4\n",
      "3\n",
      "2\n"
     ]
    }
   ],
   "source": [
    "import numpy as np\n",
    "arr_1 = np.array([9,8,7,6,5,4,3,2])\n",
    "for num in arr_1:\n",
    "    print(num)"
   ]
  },
  {
   "cell_type": "code",
   "execution_count": 12,
   "id": "86065507",
   "metadata": {},
   "outputs": [
    {
     "name": "stdout",
     "output_type": "stream",
     "text": [
      "[9 8 7 6 5 4 3 2]\n",
      "[1 2 3 4 5 6 7 8]\n",
      "\n",
      "9\n",
      "8\n",
      "7\n",
      "6\n",
      "5\n",
      "4\n",
      "3\n",
      "2\n",
      "\n",
      "9 8 7 6 5 4 3 2 1 2 3 4 5 6 7 8 "
     ]
    }
   ],
   "source": [
    "arr_2 = np.array([[9,8,7,6,5,4,3,2],[1,2,3,4,5,6,7,8]])\n",
    "for num in arr_2:\n",
    "    print(num)\n",
    "print()\n",
    "for num in arr_2[0]:\n",
    "    print(num)\n",
    "print()\n",
    "for i in arr_2:\n",
    "    for j in i:\n",
    "        print(j,end=\" \")"
   ]
  },
  {
   "cell_type": "code",
   "execution_count": 14,
   "id": "f47ebb8b",
   "metadata": {},
   "outputs": [
    {
     "name": "stdout",
     "output_type": "stream",
     "text": [
      "1 2 3 4 5 6 4 5 6 7 8 9 "
     ]
    }
   ],
   "source": [
    "arr_3 = np.array([[[1,2,3],[4,5,6]],[[4,5,6],[7,8,9]]])\n",
    "for i in arr_3:\n",
    "    for j in i:\n",
    "        for k in j:\n",
    "            print(k,end = \" \")"
   ]
  },
  {
   "cell_type": "markdown",
   "id": "16f7ab19",
   "metadata": {},
   "source": [
    "**ITERATION IN NUMPY ARRAYS (USING NDITER() FUNCTION):**"
   ]
  },
  {
   "cell_type": "code",
   "execution_count": 16,
   "id": "e089451d",
   "metadata": {},
   "outputs": [
    {
     "name": "stdout",
     "output_type": "stream",
     "text": [
      "1\n",
      "2\n",
      "3\n",
      "4\n",
      "5\n",
      "6\n",
      "4\n",
      "5\n",
      "6\n",
      "7\n",
      "8\n",
      "9\n"
     ]
    }
   ],
   "source": [
    "arr_4 = np.array([[[1,2,3],[4,5,6]],[[4,5,6],[7,8,9]]])\n",
    "for i in np.nditer(arr_4):\n",
    "    print(i)"
   ]
  },
  {
   "cell_type": "code",
   "execution_count": 21,
   "id": "c509c096",
   "metadata": {},
   "outputs": [
    {
     "name": "stdout",
     "output_type": "stream",
     "text": [
      "b'1'\n",
      "b'2'\n",
      "b'3'\n",
      "b'4'\n",
      "b'5'\n",
      "b'6'\n",
      "b'4'\n",
      "b'5'\n",
      "b'6'\n",
      "b'7'\n",
      "b'8'\n",
      "b'9'\n"
     ]
    }
   ],
   "source": [
    "arr_4 = np.array([[[1,2,3],[4,5,6]],[[4,5,6],[7,8,9]]])\n",
    "for i in np.nditer(arr_4,flags = [\"buffered\"],op_dtypes = [\"S\"]): # The data will soon turn into string type and will save in buffer in flags\n",
    "    print(i)"
   ]
  },
  {
   "cell_type": "code",
   "execution_count": 22,
   "id": "837903e1",
   "metadata": {},
   "outputs": [
    {
     "name": "stdout",
     "output_type": "stream",
     "text": [
      "The value for the index (0, 0, 0) is : 1\n",
      "The value for the index (0, 0, 1) is : 2\n",
      "The value for the index (0, 0, 2) is : 3\n",
      "The value for the index (0, 1, 0) is : 4\n",
      "The value for the index (0, 1, 1) is : 5\n",
      "The value for the index (0, 1, 2) is : 6\n",
      "The value for the index (1, 0, 0) is : 4\n",
      "The value for the index (1, 0, 1) is : 5\n",
      "The value for the index (1, 0, 2) is : 6\n",
      "The value for the index (1, 1, 0) is : 7\n",
      "The value for the index (1, 1, 1) is : 8\n",
      "The value for the index (1, 1, 2) is : 9\n"
     ]
    }
   ],
   "source": [
    "arr_4 = np.array([[[1,2,3],[4,5,6]],[[4,5,6],[7,8,9]]])\n",
    "for index,value in np.ndenumerate(arr_4):\n",
    "    print(f\"The value for the index {index} is : {value}\")"
   ]
  }
 ],
 "metadata": {
  "kernelspec": {
   "display_name": "Python 3 (ipykernel)",
   "language": "python",
   "name": "python3"
  },
  "language_info": {
   "codemirror_mode": {
    "name": "ipython",
    "version": 3
   },
   "file_extension": ".py",
   "mimetype": "text/x-python",
   "name": "python",
   "nbconvert_exporter": "python",
   "pygments_lexer": "ipython3",
   "version": "3.9.16"
  }
 },
 "nbformat": 4,
 "nbformat_minor": 5
}
