{
 "cells": [
  {
   "cell_type": "markdown",
   "id": "b21feb68",
   "metadata": {},
   "source": [
    "# Tutorial 11:"
   ]
  },
  {
   "cell_type": "markdown",
   "id": "1c2c0981",
   "metadata": {},
   "source": [
    "**INDEXING IN NUMPY ARRAYS:**"
   ]
  },
  {
   "cell_type": "code",
   "execution_count": 1,
   "id": "f567257e",
   "metadata": {},
   "outputs": [
    {
     "name": "stdout",
     "output_type": "stream",
     "text": [
      "8\n",
      "6\n",
      "7\n"
     ]
    }
   ],
   "source": [
    "import numpy as np\n",
    "array_1 = np.array([9,8,7,6]) # 1D array\n",
    "print(array_1[1])\n",
    "print(array_1[-1])\n",
    "print(array_1[-2])"
   ]
  },
  {
   "cell_type": "code",
   "execution_count": 2,
   "id": "26e06855",
   "metadata": {},
   "outputs": [
    {
     "name": "stdout",
     "output_type": "stream",
     "text": [
      "[9 8 7]\n",
      "8\n",
      "[1 2 3]\n",
      "1\n"
     ]
    }
   ],
   "source": [
    "array_2 = np.array([[9,8,7],[1,2,3]]) # 2D array\n",
    "print(array_2[0])\n",
    "print(array_2[0][1])\n",
    "print(array_2[1])\n",
    "print(array_2[1][0])\n"
   ]
  },
  {
   "cell_type": "code",
   "execution_count": 14,
   "id": "782d29d0",
   "metadata": {},
   "outputs": [
    {
     "name": "stdout",
     "output_type": "stream",
     "text": [
      "[[1 2]\n",
      " [3 4]]\n",
      "[3 4]\n",
      "3\n",
      "[[ 9 10]\n",
      " [ 5  6]]\n"
     ]
    }
   ],
   "source": [
    "array_3 = np.array([[[1,2],[3,4]],[[9,10],[5,6]]]) # 3D array\n",
    "print(array_3[0])\n",
    "print(array_3[0][1])\n",
    "print(array_3[0,1,0]) # Also, print(array_3[0][1][0])\n",
    "print(array_3[1])"
   ]
  },
  {
   "cell_type": "markdown",
   "id": "20e6e954",
   "metadata": {},
   "source": [
    "**SLICING IN NUMPY ARRAYS:**"
   ]
  },
  {
   "cell_type": "code",
   "execution_count": 8,
   "id": "7e416993",
   "metadata": {
    "scrolled": true
   },
   "outputs": [
    {
     "name": "stdout",
     "output_type": "stream",
     "text": [
      "[2 3 4]\n",
      "[3 4 5 6 7 8 9]\n",
      "[1 2 3]\n",
      "[1 2 3 4 5 6 7 8 9]\n",
      "[1 3 5 7]\n",
      "[9 8 7 6 5 4 3 2 1]\n"
     ]
    }
   ],
   "source": [
    "array_4 = np.array([1,2,3,4,5,6,7,8,9]) # 1D array\n",
    "print(array_4[1:4])\n",
    "print(array_4[2:])\n",
    "print(array_4[:3])\n",
    "print(array_4[:])\n",
    "print(array_4[0:8:2])\n",
    "print(array_4[::-1])"
   ]
  },
  {
   "cell_type": "code",
   "execution_count": 16,
   "id": "639407a8",
   "metadata": {},
   "outputs": [
    {
     "name": "stdout",
     "output_type": "stream",
     "text": [
      "[[3 4 5 6]\n",
      " [6 7 1 2]\n",
      " [9 2 5 4]]\n",
      "[2 3 4]\n",
      "[3 4 5 6]\n"
     ]
    }
   ],
   "source": [
    "array_5 = np.array([[1,2,3,4],[3,4,5,6],[6,7,1,2],[9,2,5,4]]) # 2D array\n",
    "print(array_5[1:])\n",
    "print(array_5[0][1:]) # Also, print(array_5[0,1:])\n",
    "print(array_5[1,:])"
   ]
  }
 ],
 "metadata": {
  "kernelspec": {
   "display_name": "Python 3 (ipykernel)",
   "language": "python",
   "name": "python3"
  },
  "language_info": {
   "codemirror_mode": {
    "name": "ipython",
    "version": 3
   },
   "file_extension": ".py",
   "mimetype": "text/x-python",
   "name": "python",
   "nbconvert_exporter": "python",
   "pygments_lexer": "ipython3",
   "version": "3.9.16"
  }
 },
 "nbformat": 4,
 "nbformat_minor": 5
}
