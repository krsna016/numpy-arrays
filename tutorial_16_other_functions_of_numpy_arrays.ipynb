{
 "cells": [
  {
   "cell_type": "markdown",
   "id": "6d46f1d1",
   "metadata": {},
   "source": [
    "# Tutorial 16:"
   ]
  },
  {
   "cell_type": "markdown",
   "id": "f2ca2fcd",
   "metadata": {},
   "source": [
    "**SEARCH ARRAY (.WHERE()):**"
   ]
  },
  {
   "cell_type": "code",
   "execution_count": 8,
   "id": "fa12e4ec",
   "metadata": {},
   "outputs": [
    {
     "name": "stdout",
     "output_type": "stream",
     "text": [
      "(array([1, 6, 7, 8]),)\n"
     ]
    }
   ],
   "source": [
    "import numpy as np\n",
    "arr_1 = np.array([1,2,3,4,4,5,2,2,2])\n",
    "where_1 = np.where(arr_1 == 2)\n",
    "print(where_1)\n"
   ]
  },
  {
   "cell_type": "markdown",
   "id": "f10751ba",
   "metadata": {},
   "source": [
    "**SEARCH SORTED ARRAY (SEARCHSORTED()):**"
   ]
  },
  {
   "cell_type": "code",
   "execution_count": 21,
   "id": "49ffc90a",
   "metadata": {},
   "outputs": [
    {
     "name": "stdout",
     "output_type": "stream",
     "text": [
      "4\n",
      "5\n",
      "[5 5 5]\n"
     ]
    }
   ],
   "source": [
    "arr_2 = np.array([1,2,3,4,6])\n",
    "ss = np.searchsorted(arr_2 , 6 )\n",
    "ss_1 = np.searchsorted(arr_2 , 6 , side = \"right\")\n",
    "ss_3 = np.searchsorted(arr_2 , [6,7,8] , side = \"right\")\n",
    "print(ss)\n",
    "print(ss_1)\n",
    "print(ss_3)"
   ]
  },
  {
   "cell_type": "markdown",
   "id": "c1b6d594",
   "metadata": {},
   "source": [
    "**SORT ARRAY(.SORT()):**"
   ]
  },
  {
   "cell_type": "code",
   "execution_count": 23,
   "id": "c8b96fbc",
   "metadata": {},
   "outputs": [
    {
     "name": "stdout",
     "output_type": "stream",
     "text": [
      "['1' '2' '3' '5' '6' '8' 'A' 'a']\n"
     ]
    }
   ],
   "source": [
    "ar = np.array([3,5,8,1,2,6,\"a\",\"A\"])\n",
    "sort = np.sort(ar)\n",
    "print(sort)"
   ]
  },
  {
   "cell_type": "code",
   "execution_count": 25,
   "id": "f80ebb5c",
   "metadata": {},
   "outputs": [
    {
     "name": "stdout",
     "output_type": "stream",
     "text": [
      "[[1 2 3]\n",
      " [4 7 8]]\n"
     ]
    }
   ],
   "source": [
    "ar_1 = np.array([[3,1,2],[4,8,7]])\n",
    "print(np.sort(ar_1))"
   ]
  },
  {
   "cell_type": "markdown",
   "id": "594f4605",
   "metadata": {},
   "source": [
    "**FILTER ARRAY(arr_1 [ f ] ):**"
   ]
  },
  {
   "cell_type": "code",
   "execution_count": 31,
   "id": "99b22d70",
   "metadata": {},
   "outputs": [
    {
     "name": "stdout",
     "output_type": "stream",
     "text": [
      "[3 7 5]\n"
     ]
    }
   ],
   "source": [
    "ar_2 = np.array([3,4,7,6,5])\n",
    "f = [True,False,True,False,True]\n",
    "print(ar_2[f])"
   ]
  },
  {
   "cell_type": "markdown",
   "id": "761a84a6",
   "metadata": {},
   "source": [
    "**SHUFFLE ARRAY (RANDOM.SHUFFLE):**"
   ]
  },
  {
   "cell_type": "code",
   "execution_count": 32,
   "id": "f3d88872",
   "metadata": {},
   "outputs": [
    {
     "name": "stdout",
     "output_type": "stream",
     "text": [
      "[3 1 4 5 2]\n"
     ]
    }
   ],
   "source": [
    "a_1 = np.array([1,2,3,4,5])\n",
    "np.random.shuffle(a_1)\n",
    "print(a_1)"
   ]
  },
  {
   "cell_type": "markdown",
   "id": "517e09d9",
   "metadata": {},
   "source": [
    "**UNIQUE ARRAY ():"
   ]
  },
  {
   "cell_type": "code",
   "execution_count": 37,
   "id": "0a83bd03",
   "metadata": {},
   "outputs": [
    {
     "name": "stdout",
     "output_type": "stream",
     "text": [
      "[1 2 3 4 5 7 8]\n",
      "(array([1, 2, 3, 4, 5, 7, 8]), array([0, 1, 2, 3, 4, 7, 8]), array([1, 1, 2, 2, 1, 1, 1]))\n"
     ]
    }
   ],
   "source": [
    "a_2 = np.array([1,2,3,4,5,4,3,7,8])\n",
    "print(np.unique(a_2))\n",
    "print(np.unique(a_2,return_index = True,return_counts = True))"
   ]
  },
  {
   "cell_type": "markdown",
   "id": "281fb05b",
   "metadata": {},
   "source": [
    "**RESIZE ARRAY (.RESIZE()):**"
   ]
  },
  {
   "cell_type": "code",
   "execution_count": 41,
   "id": "04dd1475",
   "metadata": {},
   "outputs": [
    {
     "name": "stdout",
     "output_type": "stream",
     "text": [
      "[[1 2 3 4 5 6 7 1 2]\n",
      " [3 4 5 6 7 1 2 3 4]]\n"
     ]
    }
   ],
   "source": [
    "a_3 = np.array([1,2,3,4,5,6,7])\n",
    "print(np.resize(a_3,(2,9)))"
   ]
  },
  {
   "cell_type": "markdown",
   "id": "4fed0ab9",
   "metadata": {},
   "source": [
    "**FLATTEN ARRAY (.FLATTEN()):**"
   ]
  },
  {
   "cell_type": "code",
   "execution_count": 47,
   "id": "34494cdc",
   "metadata": {},
   "outputs": [
    {
     "name": "stdout",
     "output_type": "stream",
     "text": [
      "[1 2 3 4 5 6]\n",
      "[1 2 3 4 5 6]\n",
      "\n",
      "[1 2 3 4 5 6]\n",
      "\n",
      "[1 2 3 4 5 6]\n",
      "\n",
      "[1 4 2 5 3 6]\n",
      "\n"
     ]
    }
   ],
   "source": [
    "a_4 = np.array([[1,2,3],[4,5,6]])\n",
    "print(a_4.flatten())\n",
    "print(a_4.flatten(order = \"C\"))\n",
    "print()\n",
    "print(a_4.flatten(order = \"A\"))\n",
    "print()\n",
    "print(a_4.flatten(order = \"K\"))\n",
    "print()\n",
    "print(a_4.flatten(order = \"F\"))\n",
    "print()"
   ]
  },
  {
   "cell_type": "markdown",
   "id": "72d40fea",
   "metadata": {},
   "source": [
    "**RAVEL ARRAY (.RAVEL()):**"
   ]
  },
  {
   "cell_type": "code",
   "execution_count": 51,
   "id": "16464bf2",
   "metadata": {},
   "outputs": [
    {
     "name": "stdout",
     "output_type": "stream",
     "text": [
      "[[1 2 3]\n",
      " [4 5 6]]\n",
      "\n",
      "[1 4 2 5 3 6]\n"
     ]
    }
   ],
   "source": [
    "a_5 = np.array([[1,2,3],[4,5,6]])\n",
    "print(a_5)\n",
    "print()\n",
    "print(np.ravel(a_5,order = \"F\"))"
   ]
  }
 ],
 "metadata": {
  "kernelspec": {
   "display_name": "Python 3 (ipykernel)",
   "language": "python",
   "name": "python3"
  },
  "language_info": {
   "codemirror_mode": {
    "name": "ipython",
    "version": 3
   },
   "file_extension": ".py",
   "mimetype": "text/x-python",
   "name": "python",
   "nbconvert_exporter": "python",
   "pygments_lexer": "ipython3",
   "version": "3.9.16"
  }
 },
 "nbformat": 4,
 "nbformat_minor": 5
}
