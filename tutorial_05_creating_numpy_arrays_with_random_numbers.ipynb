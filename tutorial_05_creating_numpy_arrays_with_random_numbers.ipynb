{
 "cells": [
  {
   "cell_type": "markdown",
   "id": "1a334e79",
   "metadata": {},
   "source": [
    "# Tutorial 5:"
   ]
  },
  {
   "cell_type": "markdown",
   "id": "3478b18d",
   "metadata": {},
   "source": [
    "**RAND() FUNCTION**"
   ]
  },
  {
   "cell_type": "code",
   "execution_count": 3,
   "id": "1e9b3370",
   "metadata": {},
   "outputs": [
    {
     "name": "stdout",
     "output_type": "stream",
     "text": [
      "[0.61229032 0.50412801 0.25421262 0.14899734 0.93334677]\n"
     ]
    }
   ],
   "source": [
    "import numpy as np\n",
    "array_rand = np.random.rand(5)\n",
    "print(array_rand)"
   ]
  },
  {
   "cell_type": "code",
   "execution_count": 4,
   "id": "469b8ca4",
   "metadata": {},
   "outputs": [
    {
     "name": "stdout",
     "output_type": "stream",
     "text": [
      "[[0.21430143 0.44696202 0.81383895 0.20278105 0.76681887]\n",
      " [0.59818243 0.34005978 0.2284344  0.02601219 0.3190065 ]]\n"
     ]
    }
   ],
   "source": [
    "array_rand_1 = np.random.rand(2,5)\n",
    "print(array_rand_1)"
   ]
  },
  {
   "cell_type": "markdown",
   "id": "89f6ec24",
   "metadata": {},
   "source": [
    "**RANDN() FUNCTION**"
   ]
  },
  {
   "cell_type": "code",
   "execution_count": 5,
   "id": "ee45ad86",
   "metadata": {},
   "outputs": [
    {
     "name": "stdout",
     "output_type": "stream",
     "text": [
      "[-0.86232622 -1.20397097  1.66778159  0.85034909  2.12634474]\n"
     ]
    }
   ],
   "source": [
    "array_randn = np.random.randn(5)\n",
    "print(array_randn)"
   ]
  },
  {
   "cell_type": "code",
   "execution_count": 6,
   "id": "ecc0cff8",
   "metadata": {},
   "outputs": [
    {
     "name": "stdout",
     "output_type": "stream",
     "text": [
      "[[-0.08169748 -0.01998109 -2.29469524 -0.51046678]\n",
      " [ 0.021815    0.32507404  1.30951478 -0.34912813]\n",
      " [-1.33941663  0.55620174 -1.91410408  0.21760156]\n",
      " [-1.68366319  0.80154625 -1.16116435  1.69765351]\n",
      " [-0.79871372 -2.29839243 -0.07826436 -0.04184489]]\n"
     ]
    }
   ],
   "source": [
    "array_randn_1 = np.random.randn(5,4)\n",
    "print(array_randn_1)"
   ]
  },
  {
   "cell_type": "markdown",
   "id": "a5360309",
   "metadata": {},
   "source": [
    "**RANF() FUNCTION**"
   ]
  },
  {
   "cell_type": "code",
   "execution_count": 7,
   "id": "fb0ecf70",
   "metadata": {},
   "outputs": [
    {
     "name": "stdout",
     "output_type": "stream",
     "text": [
      "[0.30438023 0.58595308 0.49932141 0.79795365]\n"
     ]
    }
   ],
   "source": [
    "array_ranf = np.random.ranf(4)\n",
    "print(array_ranf)"
   ]
  },
  {
   "cell_type": "code",
   "execution_count": 11,
   "id": "4033f6c5",
   "metadata": {},
   "outputs": [
    {
     "name": "stdout",
     "output_type": "stream",
     "text": [
      "[0.18111003 0.45974415 0.73646372]\n"
     ]
    }
   ],
   "source": [
    "array_ranf_1 = np.random.ranf(3)\n",
    "print(array_ranf_1)"
   ]
  },
  {
   "cell_type": "markdown",
   "id": "919b6f69",
   "metadata": {},
   "source": [
    "**RANDINT() FUNCTION**"
   ]
  },
  {
   "cell_type": "code",
   "execution_count": 15,
   "id": "22002f67",
   "metadata": {},
   "outputs": [
    {
     "name": "stdout",
     "output_type": "stream",
     "text": [
      "[ 9  1  9 12  1]\n"
     ]
    }
   ],
   "source": [
    "array_randint = np.random.randint(1,20,5)\n",
    "print(array_randint)"
   ]
  }
 ],
 "metadata": {
  "kernelspec": {
   "display_name": "Python 3 (ipykernel)",
   "language": "python",
   "name": "python3"
  },
  "language_info": {
   "codemirror_mode": {
    "name": "ipython",
    "version": 3
   },
   "file_extension": ".py",
   "mimetype": "text/x-python",
   "name": "python",
   "nbconvert_exporter": "python",
   "pygments_lexer": "ipython3",
   "version": "3.9.16"
  }
 },
 "nbformat": 4,
 "nbformat_minor": 5
}
