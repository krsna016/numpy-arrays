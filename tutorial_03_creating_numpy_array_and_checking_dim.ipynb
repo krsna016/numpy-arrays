{
 "cells": [
  {
   "cell_type": "markdown",
   "id": "25009fc1",
   "metadata": {},
   "source": [
    "# Tutorial 3:"
   ]
  },
  {
   "cell_type": "markdown",
   "id": "48c834f5",
   "metadata": {},
   "source": [
    "**CREATING NUMPY ARRAY**"
   ]
  },
  {
   "cell_type": "code",
   "execution_count": 9,
   "id": "f63f75b0",
   "metadata": {},
   "outputs": [
    {
     "name": "stdout",
     "output_type": "stream",
     "text": [
      "[1 2 3 4]\n",
      "<class 'numpy.ndarray'>\n"
     ]
    }
   ],
   "source": [
    "import numpy as np\n",
    "list_1 = [1,2,3,4]\n",
    "array_1 = np.array(list_1)\n",
    "print(array_1)\n",
    "print(type(array_1))"
   ]
  },
  {
   "cell_type": "code",
   "execution_count": 8,
   "id": "bf5e4544",
   "metadata": {},
   "outputs": [
    {
     "name": "stdout",
     "output_type": "stream",
     "text": [
      "[5 6 7]\n"
     ]
    },
    {
     "data": {
      "text/plain": [
       "array([5, 6, 7])"
      ]
     },
     "execution_count": 8,
     "metadata": {},
     "output_type": "execute_result"
    }
   ],
   "source": [
    "array_2 = np.array([5,6,7])\n",
    "print(array_2)\n",
    "array_2"
   ]
  },
  {
   "cell_type": "code",
   "execution_count": 10,
   "id": "c2294f00",
   "metadata": {},
   "outputs": [
    {
     "name": "stdout",
     "output_type": "stream",
     "text": [
      "Enter the value : 2\n",
      "Enter the value : 2\n",
      "Enter the value : 3\n",
      "Enter the value : 4\n",
      "['2' '2' '3' '4']\n"
     ]
    }
   ],
   "source": [
    "list_3 = []\n",
    "for i in range(1,5):\n",
    "    value = input(\"Enter the value : \")\n",
    "    list_3.append(value)\n",
    "print(np.array(list_3))"
   ]
  },
  {
   "cell_type": "code",
   "execution_count": 11,
   "id": "069a6a98",
   "metadata": {},
   "outputs": [
    {
     "name": "stdout",
     "output_type": "stream",
     "text": [
      "Enter the value : 2\n",
      "Enter the value : 3\n",
      "Enter the value : 4\n",
      "Enter the value : 5\n",
      "[2 3 4 5]\n"
     ]
    }
   ],
   "source": [
    "list_3 = []\n",
    "for i in range(1,5):\n",
    "    value = int(input(\"Enter the value : \"))\n",
    "    list_3.append(value)\n",
    "print(np.array(list_3))"
   ]
  },
  {
   "cell_type": "markdown",
   "id": "fe0b37d3",
   "metadata": {},
   "source": [
    "**CHECKING DIMENSIONS**"
   ]
  },
  {
   "cell_type": "code",
   "execution_count": 13,
   "id": "4b5711b5",
   "metadata": {},
   "outputs": [
    {
     "name": "stdout",
     "output_type": "stream",
     "text": [
      "[1 2 3 4]\n",
      "1\n"
     ]
    }
   ],
   "source": [
    "array_3  =np.array([1,2,3,4])\n",
    "print(array_3)\n",
    "print(array_3.ndim)"
   ]
  },
  {
   "cell_type": "code",
   "execution_count": 17,
   "id": "bd68401e",
   "metadata": {},
   "outputs": [
    {
     "name": "stdout",
     "output_type": "stream",
     "text": [
      "[[1 2 3 4]\n",
      " [5 6 7 8]]\n",
      "2\n"
     ]
    }
   ],
   "source": [
    "array_2d_1 = np.array([[1,2,3,4],[5,6,7,8]])\n",
    "print(array_2d_1)\n",
    "print(array_2d_1.ndim)"
   ]
  },
  {
   "cell_type": "code",
   "execution_count": 19,
   "id": "6778cb53",
   "metadata": {},
   "outputs": [
    {
     "name": "stdout",
     "output_type": "stream",
     "text": [
      "[[[1 2 3]\n",
      "  [4 5 6]\n",
      "  [7 8 9]]]\n",
      "3\n"
     ]
    }
   ],
   "source": [
    "array_3d_1 = np.array([[[1,2,3],[4,5,6],[7,8,9]]])\n",
    "print(array_3d_1)\n",
    "print(array_3d_1.ndim)"
   ]
  },
  {
   "cell_type": "markdown",
   "id": "18c5b2c6",
   "metadata": {},
   "source": [
    "**CREATING ARRAY OF ANY DIMENSIONS**"
   ]
  },
  {
   "cell_type": "code",
   "execution_count": 21,
   "id": "e97cbc95",
   "metadata": {},
   "outputs": [
    {
     "name": "stdout",
     "output_type": "stream",
     "text": [
      "[[[[[[[[[[1 2 3 4]]]]]]]]]]\n",
      "10\n"
     ]
    }
   ],
   "source": [
    "array_10d_1 = np.array([1,2,3,4],ndmin = 10)\n",
    "print(array_10d_1)\n",
    "print(array_10d_1.ndim)"
   ]
  }
 ],
 "metadata": {
  "kernelspec": {
   "display_name": "Python 3 (ipykernel)",
   "language": "python",
   "name": "python3"
  },
  "language_info": {
   "codemirror_mode": {
    "name": "ipython",
    "version": 3
   },
   "file_extension": ".py",
   "mimetype": "text/x-python",
   "name": "python",
   "nbconvert_exporter": "python",
   "pygments_lexer": "ipython3",
   "version": "3.9.16"
  }
 },
 "nbformat": 4,
 "nbformat_minor": 5
}
