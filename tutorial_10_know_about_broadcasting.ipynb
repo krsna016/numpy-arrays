{
 "cells": [
  {
   "cell_type": "markdown",
   "id": "615eaa2e",
   "metadata": {},
   "source": [
    "# Tutorial 10:"
   ]
  },
  {
   "cell_type": "markdown",
   "id": "66b2dded",
   "metadata": {},
   "source": [
    "**BROADCASTING ERROR SOLUTION:**"
   ]
  },
  {
   "cell_type": "code",
   "execution_count": 23,
   "id": "5989d3d2",
   "metadata": {},
   "outputs": [
    {
     "name": "stdout",
     "output_type": "stream",
     "text": [
      "Dimension/shape of array_1 is :  (4,)\n",
      "array_1 : \n",
      " [1 2 3 4]\n",
      "\n",
      "Dimension/shape of array_2 is :  (5, 1)\n",
      "array_2 : \n",
      " [[1]\n",
      " [2]\n",
      " [3]\n",
      " [4]\n",
      " [5]]\n",
      "\n",
      "Dimension of final array is :  (5, 4)\n",
      "Final array is : \n",
      " [[2 3 4 5]\n",
      " [3 4 5 6]\n",
      " [4 5 6 7]\n",
      " [5 6 7 8]\n",
      " [6 7 8 9]]\n"
     ]
    }
   ],
   "source": [
    "import numpy as np\n",
    "array_1 = np.array([1,2,3,4]) \n",
    "print(\"Dimension/shape of array_1 is : \",array_1.shape)\n",
    "print(\"array_1 : \\n\",array_1)\n",
    "print()\n",
    "array_2 = np.array([[1],[2],[3],[4],[5]])\n",
    "print(\"Dimension/shape of array_2 is : \",array_2.shape)\n",
    "print(\"array_2 : \\n\",array_2)\n",
    "print()\n",
    "# array_2 = np.array([1,2,3]) # Dimension must be same : Dimension is = (3,)\n",
    "print(\"Dimension of final array is : \",(array_1 + array_2).shape)\n",
    "print(\"Final array is : \\n\",array_1 + array_2)"
   ]
  },
  {
   "cell_type": "code",
   "execution_count": 25,
   "id": "8a4c2888",
   "metadata": {},
   "outputs": [
    {
     "name": "stdout",
     "output_type": "stream",
     "text": [
      "[[2 3 4]\n",
      " [3 4 5]]\n"
     ]
    }
   ],
   "source": [
    "array_3 = np.array([[1],[2]]) # (2,1)\n",
    "array_4 = np.array([[1,2,3],[1,2,3]]) # (2,3)\n",
    "print(array_3 + array_4) # (2,3)"
   ]
  }
 ],
 "metadata": {
  "kernelspec": {
   "display_name": "Python 3 (ipykernel)",
   "language": "python",
   "name": "python3"
  },
  "language_info": {
   "codemirror_mode": {
    "name": "ipython",
    "version": 3
   },
   "file_extension": ".py",
   "mimetype": "text/x-python",
   "name": "python",
   "nbconvert_exporter": "python",
   "pygments_lexer": "ipython3",
   "version": "3.9.16"
  }
 },
 "nbformat": 4,
 "nbformat_minor": 5
}
