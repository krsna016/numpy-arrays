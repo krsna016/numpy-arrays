{
 "cells": [
  {
   "cell_type": "markdown",
   "id": "b41408b7",
   "metadata": {},
   "source": [
    "# Tutorial 2:"
   ]
  },
  {
   "cell_type": "markdown",
   "id": "6f72549b",
   "metadata": {},
   "source": [
    "**EXECUTION TIME OF PYTHON LIST**"
   ]
  },
  {
   "cell_type": "code",
   "execution_count": 1,
   "id": "a26c719a",
   "metadata": {},
   "outputs": [
    {
     "name": "stdout",
     "output_type": "stream",
     "text": [
      "2.89 µs ± 11.4 ns per loop (mean ± std. dev. of 7 runs, 100,000 loops each)\n"
     ]
    }
   ],
   "source": [
    "%timeit [j**4 for j in range(1,9)]"
   ]
  },
  {
   "cell_type": "markdown",
   "id": "fe0ac002",
   "metadata": {},
   "source": [
    "**EXECUTION TIME OF NUMPY ARRAY**"
   ]
  },
  {
   "cell_type": "code",
   "execution_count": 3,
   "id": "12d44f83",
   "metadata": {},
   "outputs": [
    {
     "name": "stdout",
     "output_type": "stream",
     "text": [
      "1.33 µs ± 9.93 ns per loop (mean ± std. dev. of 7 runs, 1,000,000 loops each)\n"
     ]
    }
   ],
   "source": [
    "import numpy as np\n",
    "%timeit np.arange(1,9)**4"
   ]
  }
 ],
 "metadata": {
  "kernelspec": {
   "display_name": "Python 3 (ipykernel)",
   "language": "python",
   "name": "python3"
  },
  "language_info": {
   "codemirror_mode": {
    "name": "ipython",
    "version": 3
   },
   "file_extension": ".py",
   "mimetype": "text/x-python",
   "name": "python",
   "nbconvert_exporter": "python",
   "pygments_lexer": "ipython3",
   "version": "3.9.16"
  }
 },
 "nbformat": 4,
 "nbformat_minor": 5
}
