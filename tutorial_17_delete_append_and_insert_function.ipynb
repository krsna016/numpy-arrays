{
 "cells": [
  {
   "cell_type": "markdown",
   "id": "d737dd38",
   "metadata": {},
   "source": [
    "# Tutorial 17:"
   ]
  },
  {
   "cell_type": "markdown",
   "id": "f5b634db",
   "metadata": {},
   "source": [
    "**INSERT AND APPEND METHOD:**"
   ]
  },
  {
   "cell_type": "code",
   "execution_count": 9,
   "id": "0d1f4cad",
   "metadata": {},
   "outputs": [
    {
     "name": "stdout",
     "output_type": "stream",
     "text": [
      "[1 2 3 4]\n",
      "[ 1  2 40  3  4]\n",
      "[ 1  2 40  3 40  4]\n",
      "[1 2 3 4]\n"
     ]
    }
   ],
   "source": [
    "import numpy as np\n",
    "ar_1 = np.array([1,2,3,4])\n",
    "print(ar_1)\n",
    "print(np.insert(ar_1,2,40))\n",
    "print(np.insert(ar_1,(2,3),40))\n",
    "print(ar_1)"
   ]
  },
  {
   "cell_type": "code",
   "execution_count": 29,
   "id": "4889c998",
   "metadata": {},
   "outputs": [
    {
     "name": "stdout",
     "output_type": "stream",
     "text": [
      "[[1 2 3]\n",
      " [4 5 6]]\n",
      "\n",
      "[[1 0 2 0 3]\n",
      " [4 0 5 0 6]]\n",
      "\n",
      "[[1 0 2 0 3]\n",
      " [4 0 5 0 6]]\n",
      "\n",
      "[[ 1  2  3]\n",
      " [ 4  5  6]\n",
      " [10  9  9]]\n"
     ]
    }
   ],
   "source": [
    "ar_2 = np.array([[1,2,3],[4,5,6]])\n",
    "print(ar_2)\n",
    "var_1 = np.insert(ar_2,(1,2),0,axis=1)\n",
    "var_2 = np.insert(ar_2,(1,2),0,axis=1)\n",
    "var_3 = np.append(ar_2, [[10,9,9]] ,axis=0)\n",
    "\n",
    "print()\n",
    "print(var_1)\n",
    "print()\n",
    "print(var_2)\n",
    "print()\n",
    "print(var_3)"
   ]
  },
  {
   "cell_type": "markdown",
   "id": "05e627d7",
   "metadata": {},
   "source": [
    "**DELETE ARRAY(.DELETE()):**"
   ]
  },
  {
   "cell_type": "code",
   "execution_count": 30,
   "id": "f72b2602",
   "metadata": {},
   "outputs": [
    {
     "name": "stdout",
     "output_type": "stream",
     "text": [
      "[1 2 4]\n"
     ]
    }
   ],
   "source": [
    "ar_3 = np.array([1,2,3,4])\n",
    "var = np.delete(ar_3,2)\n",
    "print(var)"
   ]
  }
 ],
 "metadata": {
  "kernelspec": {
   "display_name": "Python 3 (ipykernel)",
   "language": "python",
   "name": "python3"
  },
  "language_info": {
   "codemirror_mode": {
    "name": "ipython",
    "version": 3
   },
   "file_extension": ".py",
   "mimetype": "text/x-python",
   "name": "python",
   "nbconvert_exporter": "python",
   "pygments_lexer": "ipython3",
   "version": "3.9.16"
  }
 },
 "nbformat": 4,
 "nbformat_minor": 5
}
