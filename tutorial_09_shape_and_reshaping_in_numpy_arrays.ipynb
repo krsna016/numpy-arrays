{
 "cells": [
  {
   "cell_type": "markdown",
   "id": "77f5c879",
   "metadata": {},
   "source": [
    "# Tutorial 9:"
   ]
  },
  {
   "cell_type": "markdown",
   "id": "32dc45d7",
   "metadata": {},
   "source": [
    "**SHAPES IN NUMPY ARRAYS:**"
   ]
  },
  {
   "cell_type": "code",
   "execution_count": 11,
   "id": "ecff1ea6",
   "metadata": {},
   "outputs": [
    {
     "name": "stdout",
     "output_type": "stream",
     "text": [
      "[[1 2]\n",
      " [3 4]]\n",
      "\n",
      "(2, 2)\n",
      "Shape is :  (3, 2)\n"
     ]
    }
   ],
   "source": [
    "import numpy as np\n",
    "array = np.array([[1,2],[3,4]]) # 2x2 matrix\n",
    "array_1 = np.array([[1,2],[3,4],[5,6]]) # 3x2 matrix\n",
    "print(array)\n",
    "print()\n",
    "print(array.shape)\n",
    "print(\"Shape is : \",array_1.shape)"
   ]
  },
  {
   "cell_type": "code",
   "execution_count": 10,
   "id": "28258d67",
   "metadata": {},
   "outputs": [
    {
     "name": "stdout",
     "output_type": "stream",
     "text": [
      "[[[[1 2 3 4]]]]\n",
      "4\n",
      "Shape is :  (1, 1, 1, 4)\n"
     ]
    }
   ],
   "source": [
    "array_2 = np.array([1,2,3,4],ndmin = 4)\n",
    "print(array_2)\n",
    "print(array_2.ndim)\n",
    "print(\"Shape is : \",array_2.shape)"
   ]
  },
  {
   "cell_type": "markdown",
   "id": "6fda8bb9",
   "metadata": {},
   "source": [
    "**RESHAPE IN NUMPY ARRAY:**"
   ]
  },
  {
   "cell_type": "code",
   "execution_count": 21,
   "id": "c68f280b",
   "metadata": {},
   "outputs": [
    {
     "name": "stdout",
     "output_type": "stream",
     "text": [
      "1D array is :  [1 2 3 4 5 6]\n",
      "Dimension is :  1\n",
      "2D array is : \n",
      " [[1 2]\n",
      " [3 4]\n",
      " [5 6]]\n",
      "Dimension is :  2\n",
      "Shape is :  (3, 2)\n"
     ]
    }
   ],
   "source": [
    "array_3 = np.array([1,2,3,4,5,6])\n",
    "print(\"1D array is : \",array_3)\n",
    "print(\"Dimension is : \",array_3.ndim)\n",
    "reshaping = array_3.reshape(3,2) # If no sufficient elements for the row than error occurs\n",
    "print(\"2D array is : \\n\",reshaping)\n",
    "print(\"Dimension is : \",reshaping.ndim)\n",
    "print(\"Shape is : \",reshaping.shape)"
   ]
  },
  {
   "cell_type": "code",
   "execution_count": 27,
   "id": "01f59397",
   "metadata": {},
   "outputs": [
    {
     "name": "stdout",
     "output_type": "stream",
     "text": [
      "[[[ 1  2]\n",
      "  [ 3  4]\n",
      "  [ 5  6]]\n",
      "\n",
      " [[ 7  8]\n",
      "  [ 9 10]\n",
      "  [11 12]]]\n",
      "\n",
      "Dimension is :  3\n"
     ]
    }
   ],
   "source": [
    "array_4 = np.array([1,2,3,4,5,6,7,8,9,10,11,12])\n",
    "# Total elements = 2*3*2 = 12\n",
    "reshaping = array_4.reshape(2,3,2) # 3D array of two rows containing 2 rows and 3 column \n",
    "print(reshaping)\n",
    "print(\"\\nDimension is : \",reshaping.ndim)"
   ]
  },
  {
   "cell_type": "code",
   "execution_count": 30,
   "id": "67a3c9d3",
   "metadata": {},
   "outputs": [
    {
     "name": "stdout",
     "output_type": "stream",
     "text": [
      "[ 1  2  3  4  5  6  7  8  9 10 11 12]\n"
     ]
    }
   ],
   "source": [
    "array_4 = np.array([1,2,3,4,5,6,7,8,9,10,11,12])\n",
    "reshaping = array_4.reshape(2,3,2) # 3D array of two rows containing 2 rows and 3 column \n",
    "again_reshape = reshaping.reshape(-1) # Use reshape(-1) to reshape to 1D Array\n",
    "print(again_reshape)"
   ]
  }
 ],
 "metadata": {
  "kernelspec": {
   "display_name": "Python 3 (ipykernel)",
   "language": "python",
   "name": "python3"
  },
  "language_info": {
   "codemirror_mode": {
    "name": "ipython",
    "version": 3
   },
   "file_extension": ".py",
   "mimetype": "text/x-python",
   "name": "python",
   "nbconvert_exporter": "python",
   "pygments_lexer": "ipython3",
   "version": "3.9.16"
  }
 },
 "nbformat": 4,
 "nbformat_minor": 5
}
